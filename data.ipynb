{
 "cells": [
  {
   "cell_type": "code",
   "execution_count": 1,
   "metadata": {},
   "outputs": [],
   "source": [
    "import pandas as pd"
   ]
  },
  {
   "cell_type": "code",
   "execution_count": 5,
   "metadata": {},
   "outputs": [
    {
     "data": {
      "text/html": [
       "<div>\n",
       "<style scoped>\n",
       "    .dataframe tbody tr th:only-of-type {\n",
       "        vertical-align: middle;\n",
       "    }\n",
       "\n",
       "    .dataframe tbody tr th {\n",
       "        vertical-align: top;\n",
       "    }\n",
       "\n",
       "    .dataframe thead th {\n",
       "        text-align: right;\n",
       "    }\n",
       "</style>\n",
       "<table border=\"1\" class=\"dataframe\">\n",
       "  <thead>\n",
       "    <tr style=\"text-align: right;\">\n",
       "      <th></th>\n",
       "      <th>Code,name,symptoms,Desc,commonTestsAndProceduresDesc,commonTestsAndProcedures,commonMedicationsDesc,commonMedications,whoIsAtRiskDesc,symptomsDesc</th>\n",
       "    </tr>\n",
       "  </thead>\n",
       "  <tbody>\n",
       "    <tr>\n",
       "      <th>0</th>\n",
       "      <td>105,Panic disorder,[{\"symptoms\":\"Anxiety and n...</td>\n",
       "    </tr>\n",
       "    <tr>\n",
       "      <th>1</th>\n",
       "      <td>106,Vocal cord polyp,[{\"symptoms\":\"Hoarse voic...</td>\n",
       "    </tr>\n",
       "    <tr>\n",
       "      <th>2</th>\n",
       "      <td>107,Turner syndrome,[{\"symptoms\":\"Groin mass\"}...</td>\n",
       "    </tr>\n",
       "    <tr>\n",
       "      <th>3</th>\n",
       "      <td>108,Cryptorchidism,[{\"symptoms\":\"Symptoms of t...</td>\n",
       "    </tr>\n",
       "    <tr>\n",
       "      <th>4</th>\n",
       "      <td>109,Poisoning due to ethylene glycol,[{\"sympto...</td>\n",
       "    </tr>\n",
       "    <tr>\n",
       "      <th>...</th>\n",
       "      <td>...</td>\n",
       "    </tr>\n",
       "    <tr>\n",
       "      <th>790</th>\n",
       "      <td>602,Kaposi sarcoma,[{\"symptoms\":\"Leg pain\"},{\"...</td>\n",
       "    </tr>\n",
       "    <tr>\n",
       "      <th>791</th>\n",
       "      <td>603,Spondylolisthesis,[{\"symptoms\":\"Low back p...</td>\n",
       "    </tr>\n",
       "    <tr>\n",
       "      <th>792</th>\n",
       "      <td>604,Pseudotumor cerebri,[{\"symptoms\":\"Headache...</td>\n",
       "    </tr>\n",
       "    <tr>\n",
       "      <th>793</th>\n",
       "      <td>605,Conjunctivitis due to virus,[{\"symptoms\":\"...</td>\n",
       "    </tr>\n",
       "    <tr>\n",
       "      <th>794</th>\n",
       "      <td>606,Open wound of the nose,[{\"symptoms\":\"Heada...</td>\n",
       "    </tr>\n",
       "  </tbody>\n",
       "</table>\n",
       "<p>795 rows × 1 columns</p>\n",
       "</div>"
      ],
      "text/plain": [
       "    Code,name,symptoms,Desc,commonTestsAndProceduresDesc,commonTestsAndProcedures,commonMedicationsDesc,commonMedications,whoIsAtRiskDesc,symptomsDesc\n",
       "0    105,Panic disorder,[{\"symptoms\":\"Anxiety and n...                                                                                                \n",
       "1    106,Vocal cord polyp,[{\"symptoms\":\"Hoarse voic...                                                                                                \n",
       "2    107,Turner syndrome,[{\"symptoms\":\"Groin mass\"}...                                                                                                \n",
       "3    108,Cryptorchidism,[{\"symptoms\":\"Symptoms of t...                                                                                                \n",
       "4    109,Poisoning due to ethylene glycol,[{\"sympto...                                                                                                \n",
       "..                                                 ...                                                                                                \n",
       "790  602,Kaposi sarcoma,[{\"symptoms\":\"Leg pain\"},{\"...                                                                                                \n",
       "791  603,Spondylolisthesis,[{\"symptoms\":\"Low back p...                                                                                                \n",
       "792  604,Pseudotumor cerebri,[{\"symptoms\":\"Headache...                                                                                                \n",
       "793  605,Conjunctivitis due to virus,[{\"symptoms\":\"...                                                                                                \n",
       "794  606,Open wound of the nose,[{\"symptoms\":\"Heada...                                                                                                \n",
       "\n",
       "[795 rows x 1 columns]"
      ]
     },
     "execution_count": 5,
     "metadata": {},
     "output_type": "execute_result"
    }
   ],
   "source": [
    "# Read Excel file\n",
    "df = pd.read_csv('cleandata.csv')\n",
    "df"
   ]
  },
  {
   "cell_type": "code",
   "execution_count": 7,
   "metadata": {},
   "outputs": [
    {
     "ename": "ValueError",
     "evalue": "Columns must be same length as key",
     "output_type": "error",
     "traceback": [
      "\u001b[1;31m---------------------------------------------------------------------------\u001b[0m",
      "\u001b[1;31mValueError\u001b[0m                                Traceback (most recent call last)",
      "Cell \u001b[1;32mIn[7], line 2\u001b[0m\n\u001b[0;32m      1\u001b[0m \u001b[39m# Split values in first column by comma and create new columns\u001b[39;00m\n\u001b[1;32m----> 2\u001b[0m df[[\u001b[39m'\u001b[39;49m\u001b[39mColumn1A\u001b[39;49m\u001b[39m'\u001b[39;49m, \u001b[39m'\u001b[39;49m\u001b[39mColumn1B\u001b[39;49m\u001b[39m'\u001b[39;49m]] \u001b[39m=\u001b[39m df\u001b[39m.\u001b[39miloc[:, \u001b[39m0\u001b[39m]\u001b[39m.\u001b[39mstr\u001b[39m.\u001b[39msplit(\u001b[39m'\u001b[39m\u001b[39m,\u001b[39m\u001b[39m'\u001b[39m, expand\u001b[39m=\u001b[39m\u001b[39mTrue\u001b[39;00m)\n\u001b[0;32m      4\u001b[0m df\u001b[39m.\u001b[39mhead()\n\u001b[0;32m      5\u001b[0m df\u001b[39m.\u001b[39mtail()\n",
      "File \u001b[1;32m~\\AppData\\Local\\Packages\\PythonSoftwareFoundation.Python.3.9_qbz5n2kfra8p0\\LocalCache\\local-packages\\Python39\\site-packages\\pandas\\core\\frame.py:3968\u001b[0m, in \u001b[0;36mDataFrame.__setitem__\u001b[1;34m(self, key, value)\u001b[0m\n\u001b[0;32m   3966\u001b[0m     \u001b[39mself\u001b[39m\u001b[39m.\u001b[39m_setitem_frame(key, value)\n\u001b[0;32m   3967\u001b[0m \u001b[39melif\u001b[39;00m \u001b[39misinstance\u001b[39m(key, (Series, np\u001b[39m.\u001b[39mndarray, \u001b[39mlist\u001b[39m, Index)):\n\u001b[1;32m-> 3968\u001b[0m     \u001b[39mself\u001b[39;49m\u001b[39m.\u001b[39;49m_setitem_array(key, value)\n\u001b[0;32m   3969\u001b[0m \u001b[39melif\u001b[39;00m \u001b[39misinstance\u001b[39m(value, DataFrame):\n\u001b[0;32m   3970\u001b[0m     \u001b[39mself\u001b[39m\u001b[39m.\u001b[39m_set_item_frame_value(key, value)\n",
      "File \u001b[1;32m~\\AppData\\Local\\Packages\\PythonSoftwareFoundation.Python.3.9_qbz5n2kfra8p0\\LocalCache\\local-packages\\Python39\\site-packages\\pandas\\core\\frame.py:4010\u001b[0m, in \u001b[0;36mDataFrame._setitem_array\u001b[1;34m(self, key, value)\u001b[0m\n\u001b[0;32m   4005\u001b[0m \u001b[39melse\u001b[39;00m:\n\u001b[0;32m   4006\u001b[0m     \u001b[39m# Note: unlike self.iloc[:, indexer] = value, this will\u001b[39;00m\n\u001b[0;32m   4007\u001b[0m     \u001b[39m#  never try to overwrite values inplace\u001b[39;00m\n\u001b[0;32m   4009\u001b[0m     \u001b[39mif\u001b[39;00m \u001b[39misinstance\u001b[39m(value, DataFrame):\n\u001b[1;32m-> 4010\u001b[0m         check_key_length(\u001b[39mself\u001b[39;49m\u001b[39m.\u001b[39;49mcolumns, key, value)\n\u001b[0;32m   4011\u001b[0m         \u001b[39mfor\u001b[39;00m k1, k2 \u001b[39min\u001b[39;00m \u001b[39mzip\u001b[39m(key, value\u001b[39m.\u001b[39mcolumns):\n\u001b[0;32m   4012\u001b[0m             \u001b[39mself\u001b[39m[k1] \u001b[39m=\u001b[39m value[k2]\n",
      "File \u001b[1;32m~\\AppData\\Local\\Packages\\PythonSoftwareFoundation.Python.3.9_qbz5n2kfra8p0\\LocalCache\\local-packages\\Python39\\site-packages\\pandas\\core\\indexers\\utils.py:401\u001b[0m, in \u001b[0;36mcheck_key_length\u001b[1;34m(columns, key, value)\u001b[0m\n\u001b[0;32m    399\u001b[0m \u001b[39mif\u001b[39;00m columns\u001b[39m.\u001b[39mis_unique:\n\u001b[0;32m    400\u001b[0m     \u001b[39mif\u001b[39;00m \u001b[39mlen\u001b[39m(value\u001b[39m.\u001b[39mcolumns) \u001b[39m!=\u001b[39m \u001b[39mlen\u001b[39m(key):\n\u001b[1;32m--> 401\u001b[0m         \u001b[39mraise\u001b[39;00m \u001b[39mValueError\u001b[39;00m(\u001b[39m\"\u001b[39m\u001b[39mColumns must be same length as key\u001b[39m\u001b[39m\"\u001b[39m)\n\u001b[0;32m    402\u001b[0m \u001b[39melse\u001b[39;00m:\n\u001b[0;32m    403\u001b[0m     \u001b[39m# Missing keys in columns are represented as -1\u001b[39;00m\n\u001b[0;32m    404\u001b[0m     \u001b[39mif\u001b[39;00m \u001b[39mlen\u001b[39m(columns\u001b[39m.\u001b[39mget_indexer_non_unique(key)[\u001b[39m0\u001b[39m]) \u001b[39m!=\u001b[39m \u001b[39mlen\u001b[39m(value\u001b[39m.\u001b[39mcolumns):\n",
      "\u001b[1;31mValueError\u001b[0m: Columns must be same length as key"
     ]
    }
   ],
   "source": [
    "# Split values in first column by comma and create new columns\n",
    "df[['Column1A', 'Column1B']] = df.iloc[:, 0].str.split(',[', expand=True)\n",
    "\n",
    "df.head()\n",
    "df.tail()"
   ]
  },
  {
   "cell_type": "code",
   "execution_count": null,
   "metadata": {},
   "outputs": [],
   "source": []
  }
 ],
 "metadata": {
  "kernelspec": {
   "display_name": "Python 3",
   "language": "python",
   "name": "python3"
  },
  "language_info": {
   "codemirror_mode": {
    "name": "ipython",
    "version": 3
   },
   "file_extension": ".py",
   "mimetype": "text/x-python",
   "name": "python",
   "nbconvert_exporter": "python",
   "pygments_lexer": "ipython3",
   "version": "3.9.13"
  },
  "orig_nbformat": 4
 },
 "nbformat": 4,
 "nbformat_minor": 2
}
